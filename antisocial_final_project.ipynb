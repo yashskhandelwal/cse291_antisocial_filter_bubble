{
 "cells": [
  {
   "cell_type": "markdown",
   "id": "de850af4",
   "metadata": {},
   "source": [
    "# Antisocial Final Project"
   ]
  },
  {
   "cell_type": "code",
   "execution_count": 108,
   "id": "47afee28",
   "metadata": {},
   "outputs": [],
   "source": [
    "import tqdm\n",
    "# ^^^ pyforest auto-imports - don't write above this line\n",
    "# imports\n",
    "import numpy as np\n",
    "import scipy\n",
    "import pandas as pd\n",
    "import math\n",
    "import random\n",
    "import sklearn\n",
    "import seaborn as sns\n",
    "import csv\n",
    "import os\n",
    "import glob\n",
    "from nltk.corpus import stopwords\n",
    "from scipy.sparse import csr_matrix\n",
    "from sklearn.model_selection import train_test_split\n",
    "from sklearn.feature_extraction.text import TfidfVectorizer\n",
    "from sklearn.metrics.pairwise import cosine_similarity\n",
    "from scipy.sparse.linalg import svds\n",
    "from sklearn.preprocessing import MinMaxScaler\n",
    "import matplotlib.pyplot as plt\n",
    "import pprint\n",
    "from tqdm.notebook import tqdm\n",
    "\n",
    "import warnings\n",
    "warnings.filterwarnings(\"ignore\")"
   ]
  },
  {
   "cell_type": "markdown",
   "id": "560726c3",
   "metadata": {},
   "source": [
    "## Datasets"
   ]
  },
  {
   "cell_type": "code",
   "execution_count": 109,
   "id": "3cfdcbf6",
   "metadata": {},
   "outputs": [
    {
     "name": "stdout",
     "output_type": "stream",
     "text": [
      "number of datapoints:  3122\n",
      "number of columns:  3122\n",
      "columns:\n",
      "['timestamp',\n",
      " 'eventType',\n",
      " 'contentId',\n",
      " 'authorPersonId',\n",
      " 'authorSessionId',\n",
      " 'authorUserAgent',\n",
      " 'authorRegion',\n",
      " 'authorCountry',\n",
      " 'contentType',\n",
      " 'url',\n",
      " 'title',\n",
      " 'text',\n",
      " 'lang']\n"
     ]
    }
   ],
   "source": [
    "# load shared articles dataset\n",
    "articles_df = pd.read_csv('./archive/shared_articles.csv')\n",
    "print(\"number of datapoints: \", articles_df.shape[0])\n",
    "print(\"number of columns: \", articles_df.shape[0])\n",
    "print(\"columns:\")\n",
    "pprint.pprint(list(articles_df.columns))"
   ]
  },
  {
   "cell_type": "code",
   "execution_count": 110,
   "id": "6878a402",
   "metadata": {},
   "outputs": [
    {
     "data": {
      "text/html": [
       "<div>\n",
       "<style scoped>\n",
       "    .dataframe tbody tr th:only-of-type {\n",
       "        vertical-align: middle;\n",
       "    }\n",
       "\n",
       "    .dataframe tbody tr th {\n",
       "        vertical-align: top;\n",
       "    }\n",
       "\n",
       "    .dataframe thead th {\n",
       "        text-align: right;\n",
       "    }\n",
       "</style>\n",
       "<table border=\"1\" class=\"dataframe\">\n",
       "  <thead>\n",
       "    <tr style=\"text-align: right;\">\n",
       "      <th></th>\n",
       "      <th>timestamp</th>\n",
       "      <th>eventType</th>\n",
       "      <th>contentId</th>\n",
       "      <th>authorPersonId</th>\n",
       "      <th>authorSessionId</th>\n",
       "      <th>authorUserAgent</th>\n",
       "      <th>authorRegion</th>\n",
       "      <th>authorCountry</th>\n",
       "      <th>contentType</th>\n",
       "      <th>url</th>\n",
       "      <th>title</th>\n",
       "      <th>text</th>\n",
       "      <th>lang</th>\n",
       "    </tr>\n",
       "  </thead>\n",
       "  <tbody>\n",
       "    <tr>\n",
       "      <th>0</th>\n",
       "      <td>1459192779</td>\n",
       "      <td>CONTENT REMOVED</td>\n",
       "      <td>-6451309518266745024</td>\n",
       "      <td>4340306774493623681</td>\n",
       "      <td>8940341205206233829</td>\n",
       "      <td>NaN</td>\n",
       "      <td>NaN</td>\n",
       "      <td>NaN</td>\n",
       "      <td>HTML</td>\n",
       "      <td>http://www.nytimes.com/2016/03/28/business/dea...</td>\n",
       "      <td>Ethereum, a Virtual Currency, Enables Transact...</td>\n",
       "      <td>All of this work is still very early. The firs...</td>\n",
       "      <td>en</td>\n",
       "    </tr>\n",
       "    <tr>\n",
       "      <th>1</th>\n",
       "      <td>1459193988</td>\n",
       "      <td>CONTENT SHARED</td>\n",
       "      <td>-4110354420726924665</td>\n",
       "      <td>4340306774493623681</td>\n",
       "      <td>8940341205206233829</td>\n",
       "      <td>NaN</td>\n",
       "      <td>NaN</td>\n",
       "      <td>NaN</td>\n",
       "      <td>HTML</td>\n",
       "      <td>http://www.nytimes.com/2016/03/28/business/dea...</td>\n",
       "      <td>Ethereum, a Virtual Currency, Enables Transact...</td>\n",
       "      <td>All of this work is still very early. The firs...</td>\n",
       "      <td>en</td>\n",
       "    </tr>\n",
       "    <tr>\n",
       "      <th>2</th>\n",
       "      <td>1459194146</td>\n",
       "      <td>CONTENT SHARED</td>\n",
       "      <td>-7292285110016212249</td>\n",
       "      <td>4340306774493623681</td>\n",
       "      <td>8940341205206233829</td>\n",
       "      <td>NaN</td>\n",
       "      <td>NaN</td>\n",
       "      <td>NaN</td>\n",
       "      <td>HTML</td>\n",
       "      <td>http://cointelegraph.com/news/bitcoin-future-w...</td>\n",
       "      <td>Bitcoin Future: When GBPcoin of Branson Wins O...</td>\n",
       "      <td>The alarm clock wakes me at 8:00 with stream o...</td>\n",
       "      <td>en</td>\n",
       "    </tr>\n",
       "    <tr>\n",
       "      <th>3</th>\n",
       "      <td>1459194474</td>\n",
       "      <td>CONTENT SHARED</td>\n",
       "      <td>-6151852268067518688</td>\n",
       "      <td>3891637997717104548</td>\n",
       "      <td>-1457532940883382585</td>\n",
       "      <td>NaN</td>\n",
       "      <td>NaN</td>\n",
       "      <td>NaN</td>\n",
       "      <td>HTML</td>\n",
       "      <td>https://cloudplatform.googleblog.com/2016/03/G...</td>\n",
       "      <td>Google Data Center 360° Tour</td>\n",
       "      <td>We're excited to share the Google Data Center ...</td>\n",
       "      <td>en</td>\n",
       "    </tr>\n",
       "    <tr>\n",
       "      <th>4</th>\n",
       "      <td>1459194497</td>\n",
       "      <td>CONTENT SHARED</td>\n",
       "      <td>2448026894306402386</td>\n",
       "      <td>4340306774493623681</td>\n",
       "      <td>8940341205206233829</td>\n",
       "      <td>NaN</td>\n",
       "      <td>NaN</td>\n",
       "      <td>NaN</td>\n",
       "      <td>HTML</td>\n",
       "      <td>https://bitcoinmagazine.com/articles/ibm-wants...</td>\n",
       "      <td>IBM Wants to \"Evolve the Internet\" With Blockc...</td>\n",
       "      <td>The Aite Group projects the blockchain market ...</td>\n",
       "      <td>en</td>\n",
       "    </tr>\n",
       "  </tbody>\n",
       "</table>\n",
       "</div>"
      ],
      "text/plain": [
       "    timestamp        eventType            contentId       authorPersonId  \\\n",
       "0  1459192779  CONTENT REMOVED -6451309518266745024  4340306774493623681   \n",
       "1  1459193988   CONTENT SHARED -4110354420726924665  4340306774493623681   \n",
       "2  1459194146   CONTENT SHARED -7292285110016212249  4340306774493623681   \n",
       "3  1459194474   CONTENT SHARED -6151852268067518688  3891637997717104548   \n",
       "4  1459194497   CONTENT SHARED  2448026894306402386  4340306774493623681   \n",
       "\n",
       "       authorSessionId authorUserAgent authorRegion authorCountry contentType  \\\n",
       "0  8940341205206233829             NaN          NaN           NaN        HTML   \n",
       "1  8940341205206233829             NaN          NaN           NaN        HTML   \n",
       "2  8940341205206233829             NaN          NaN           NaN        HTML   \n",
       "3 -1457532940883382585             NaN          NaN           NaN        HTML   \n",
       "4  8940341205206233829             NaN          NaN           NaN        HTML   \n",
       "\n",
       "                                                 url  \\\n",
       "0  http://www.nytimes.com/2016/03/28/business/dea...   \n",
       "1  http://www.nytimes.com/2016/03/28/business/dea...   \n",
       "2  http://cointelegraph.com/news/bitcoin-future-w...   \n",
       "3  https://cloudplatform.googleblog.com/2016/03/G...   \n",
       "4  https://bitcoinmagazine.com/articles/ibm-wants...   \n",
       "\n",
       "                                               title  \\\n",
       "0  Ethereum, a Virtual Currency, Enables Transact...   \n",
       "1  Ethereum, a Virtual Currency, Enables Transact...   \n",
       "2  Bitcoin Future: When GBPcoin of Branson Wins O...   \n",
       "3                       Google Data Center 360° Tour   \n",
       "4  IBM Wants to \"Evolve the Internet\" With Blockc...   \n",
       "\n",
       "                                                text lang  \n",
       "0  All of this work is still very early. The firs...   en  \n",
       "1  All of this work is still very early. The firs...   en  \n",
       "2  The alarm clock wakes me at 8:00 with stream o...   en  \n",
       "3  We're excited to share the Google Data Center ...   en  \n",
       "4  The Aite Group projects the blockchain market ...   en  "
      ]
     },
     "execution_count": 110,
     "metadata": {},
     "output_type": "execute_result"
    }
   ],
   "source": [
    "# visualizing a few columns\n",
    "articles_df.head()"
   ]
  },
  {
   "cell_type": "code",
   "execution_count": 111,
   "id": "2bcd3f79",
   "metadata": {},
   "outputs": [
    {
     "name": "stdout",
     "output_type": "stream",
     "text": [
      "number of datapoints:  72312\n",
      "number of columns:  72312\n",
      "columns:\n",
      "['timestamp',\n",
      " 'eventType',\n",
      " 'contentId',\n",
      " 'personId',\n",
      " 'sessionId',\n",
      " 'userAgent',\n",
      " 'userRegion',\n",
      " 'userCountry']\n"
     ]
    }
   ],
   "source": [
    "# load user interactions dataset\n",
    "interactions_df = pd.read_csv('./archive/users_interactions.csv')\n",
    "print(\"number of datapoints: \", interactions_df.shape[0])\n",
    "print(\"number of columns: \", interactions_df.shape[0])\n",
    "print(\"columns:\")\n",
    "pprint.pprint(list(interactions_df.columns))"
   ]
  },
  {
   "cell_type": "code",
   "execution_count": 112,
   "id": "6a23cbba",
   "metadata": {},
   "outputs": [
    {
     "data": {
      "text/html": [
       "<div>\n",
       "<style scoped>\n",
       "    .dataframe tbody tr th:only-of-type {\n",
       "        vertical-align: middle;\n",
       "    }\n",
       "\n",
       "    .dataframe tbody tr th {\n",
       "        vertical-align: top;\n",
       "    }\n",
       "\n",
       "    .dataframe thead th {\n",
       "        text-align: right;\n",
       "    }\n",
       "</style>\n",
       "<table border=\"1\" class=\"dataframe\">\n",
       "  <thead>\n",
       "    <tr style=\"text-align: right;\">\n",
       "      <th></th>\n",
       "      <th>timestamp</th>\n",
       "      <th>eventType</th>\n",
       "      <th>contentId</th>\n",
       "      <th>personId</th>\n",
       "      <th>sessionId</th>\n",
       "      <th>userAgent</th>\n",
       "      <th>userRegion</th>\n",
       "      <th>userCountry</th>\n",
       "    </tr>\n",
       "  </thead>\n",
       "  <tbody>\n",
       "    <tr>\n",
       "      <th>0</th>\n",
       "      <td>1465413032</td>\n",
       "      <td>VIEW</td>\n",
       "      <td>-3499919498720038879</td>\n",
       "      <td>-8845298781299428018</td>\n",
       "      <td>1264196770339959068</td>\n",
       "      <td>NaN</td>\n",
       "      <td>NaN</td>\n",
       "      <td>NaN</td>\n",
       "    </tr>\n",
       "    <tr>\n",
       "      <th>1</th>\n",
       "      <td>1465412560</td>\n",
       "      <td>VIEW</td>\n",
       "      <td>8890720798209849691</td>\n",
       "      <td>-1032019229384696495</td>\n",
       "      <td>3621737643587579081</td>\n",
       "      <td>Mozilla/5.0 (Macintosh; Intel Mac OS X 10_11_2...</td>\n",
       "      <td>NY</td>\n",
       "      <td>US</td>\n",
       "    </tr>\n",
       "    <tr>\n",
       "      <th>2</th>\n",
       "      <td>1465416190</td>\n",
       "      <td>VIEW</td>\n",
       "      <td>310515487419366995</td>\n",
       "      <td>-1130272294246983140</td>\n",
       "      <td>2631864456530402479</td>\n",
       "      <td>NaN</td>\n",
       "      <td>NaN</td>\n",
       "      <td>NaN</td>\n",
       "    </tr>\n",
       "    <tr>\n",
       "      <th>3</th>\n",
       "      <td>1465413895</td>\n",
       "      <td>FOLLOW</td>\n",
       "      <td>310515487419366995</td>\n",
       "      <td>344280948527967603</td>\n",
       "      <td>-3167637573980064150</td>\n",
       "      <td>NaN</td>\n",
       "      <td>NaN</td>\n",
       "      <td>NaN</td>\n",
       "    </tr>\n",
       "    <tr>\n",
       "      <th>4</th>\n",
       "      <td>1465412290</td>\n",
       "      <td>VIEW</td>\n",
       "      <td>-7820640624231356730</td>\n",
       "      <td>-445337111692715325</td>\n",
       "      <td>5611481178424124714</td>\n",
       "      <td>NaN</td>\n",
       "      <td>NaN</td>\n",
       "      <td>NaN</td>\n",
       "    </tr>\n",
       "  </tbody>\n",
       "</table>\n",
       "</div>"
      ],
      "text/plain": [
       "    timestamp eventType            contentId             personId  \\\n",
       "0  1465413032      VIEW -3499919498720038879 -8845298781299428018   \n",
       "1  1465412560      VIEW  8890720798209849691 -1032019229384696495   \n",
       "2  1465416190      VIEW   310515487419366995 -1130272294246983140   \n",
       "3  1465413895    FOLLOW   310515487419366995   344280948527967603   \n",
       "4  1465412290      VIEW -7820640624231356730  -445337111692715325   \n",
       "\n",
       "             sessionId                                          userAgent  \\\n",
       "0  1264196770339959068                                                NaN   \n",
       "1  3621737643587579081  Mozilla/5.0 (Macintosh; Intel Mac OS X 10_11_2...   \n",
       "2  2631864456530402479                                                NaN   \n",
       "3 -3167637573980064150                                                NaN   \n",
       "4  5611481178424124714                                                NaN   \n",
       "\n",
       "  userRegion userCountry  \n",
       "0        NaN         NaN  \n",
       "1         NY          US  \n",
       "2        NaN         NaN  \n",
       "3        NaN         NaN  \n",
       "4        NaN         NaN  "
      ]
     },
     "execution_count": 112,
     "metadata": {},
     "output_type": "execute_result"
    }
   ],
   "source": [
    "# visualizing a few columns\n",
    "interactions_df.head()"
   ]
  },
  {
   "cell_type": "code",
   "execution_count": 243,
   "id": "6806140e",
   "metadata": {},
   "outputs": [
    {
     "name": "stdout",
     "output_type": "stream",
     "text": [
      "number of datapoints:  1644\n",
      "number of columns:  1644\n",
      "columns:\n",
      "['personId', 'friends']\n"
     ]
    }
   ],
   "source": [
    "# load user friends dataset\n",
    "friends_df = pd.read_csv('./archive/en_user_friends.csv')\n",
    "print(\"number of datapoints: \", friends_df.shape[0])\n",
    "print(\"number of columns: \", friends_df.shape[0])\n",
    "print(\"columns:\")\n",
    "pprint.pprint(list(friends_df.columns))"
   ]
  },
  {
   "cell_type": "markdown",
   "id": "c0524a8a",
   "metadata": {},
   "source": [
    "## Exploratory Data Analysis"
   ]
  },
  {
   "cell_type": "code",
   "execution_count": 32,
   "id": "402650a5",
   "metadata": {},
   "outputs": [],
   "source": [
    "## some utility functions to plot graphs\n",
    "\n",
    "# Distribution graphs (histogram/bar graph) of column data\n",
    "def plotPerColumnDistribution(df, nGraphShown, nGraphPerRow):\n",
    "    nunique = df.nunique()\n",
    "    df = df[[col for col in df if nunique[col] > 1 and nunique[col] < 50]] # For displaying purposes, pick columns that have between 1 and 50 unique values\n",
    "    nRow, nCol = df.shape\n",
    "    columnNames = list(df)\n",
    "    nGraphRow = (nCol + nGraphPerRow - 1) / nGraphPerRow\n",
    "    plt.figure(num = None, figsize = (6 * nGraphPerRow, 8 * nGraphRow), dpi = 80, facecolor = 'w', edgecolor = 'k')\n",
    "    for i in range(min(nCol, nGraphShown)):\n",
    "        plt.subplot(nGraphRow, nGraphPerRow, i + 1)\n",
    "        columnDf = df.iloc[:, i]\n",
    "        if (not np.issubdtype(type(columnDf.iloc[0]), np.number)):\n",
    "            valueCounts = columnDf.value_counts()\n",
    "            valueCounts.plot.bar()\n",
    "        else:\n",
    "            columnDf.hist()\n",
    "        plt.ylabel('counts')\n",
    "        plt.xticks(rotation = 90)\n",
    "        plt.title(f'{columnNames[i]} (column {i})')\n",
    "    plt.tight_layout(pad = 1.0, w_pad = 1.0, h_pad = 1.0)\n",
    "    plt.show()\n",
    "    \n",
    "# Scatter and density plots\n",
    "def plotScatterMatrix(df, plotSize, textSize):\n",
    "    df = df.select_dtypes(include =[np.number]) # keep only numerical columns\n",
    "    # Remove rows and columns that would lead to df being singular\n",
    "    df = df.dropna('columns')\n",
    "    df = df[[col for col in df if df[col].nunique() > 1]] # keep columns where there are more than 1 unique values\n",
    "    columnNames = list(df)\n",
    "    if len(columnNames) > 10: # reduce the number of columns for matrix inversion of kernel density plots\n",
    "        columnNames = columnNames[:10]\n",
    "    df = df[columnNames]\n",
    "    ax = pd.plotting.scatter_matrix(df, alpha=0.75, figsize=[plotSize, plotSize], diagonal='kde')\n",
    "    corrs = df.corr().values\n",
    "    for i, j in zip(*plt.np.triu_indices_from(ax, k = 1)):\n",
    "        ax[i, j].annotate('Corr. coef = %.3f' % corrs[i, j], (0.8, 0.2), xycoords='axes fraction', ha='center', va='center', size=textSize)\n",
    "    plt.suptitle('Scatter and Density Plot')\n",
    "    plt.show()"
   ]
  },
  {
   "cell_type": "markdown",
   "id": "5c99005f",
   "metadata": {},
   "source": [
    "##### For the shared article dataset"
   ]
  },
  {
   "cell_type": "code",
   "execution_count": 34,
   "id": "b9426112",
   "metadata": {},
   "outputs": [
    {
     "data": {
      "image/png": "[encoded data removed]",
      "text/plain": [
       "<Figure size 2400x1152 with 5 Axes>"
      ]
     },
     "metadata": {},
     "output_type": "display_data"
    }
   ],
   "source": [
    "plotPerColumnDistribution(articles_df, 10, 5)"
   ]
  },
  {
   "cell_type": "markdown",
   "id": "101b4015",
   "metadata": {},
   "source": [
    "##### For the interactions dataset"
   ]
  },
  {
   "cell_type": "code",
   "execution_count": 38,
   "id": "ed7b704d",
   "metadata": {},
   "outputs": [
    {
     "data": {
      "image/png": "[encoded data removed]",
      "text/plain": [
       "<Figure size 2400x768 with 2 Axes>"
      ]
     },
     "metadata": {},
     "output_type": "display_data"
    }
   ],
   "source": [
    "plotPerColumnDistribution(interactions_df, 10, 5)"
   ]
  },
  {
   "cell_type": "code",
   "execution_count": 40,
   "id": "5fd79203",
   "metadata": {},
   "outputs": [
    {
     "name": "stdout",
     "output_type": "stream",
     "text": [
      "Distinct articles: \t2987\n",
      "Distinct users: \t1895\n",
      "Distinct user sessions: \t28740\n"
     ]
    }
   ],
   "source": [
    "print('Distinct articles: \\t%d' % len(interactions_df['contentId'].unique()))\n",
    "print('Distinct users: \\t%d' % len(interactions_df['personId'].unique()))\n",
    "print('Distinct user sessions: \\t%d' % len(interactions_df['sessionId'].unique()))"
   ]
  },
  {
   "cell_type": "markdown",
   "id": "b89d8703",
   "metadata": {},
   "source": [
    "### Conclusion of EDA:\n",
    "For the purposes of this project, we would be working with the interactions dataset which has ~73k points, ~3k articles and ~2k users.\\\n",
    "\\\n",
    "We can see that various actions indicates various levels of interactions of user with the article. The interactions can be rated in the following order from most strong positive interaction to least:\n",
    "1. Follow\n",
    "2. Bookmark\n",
    "3. Like\n",
    "4. Comment Created\n",
    "5. View"
   ]
  },
  {
   "cell_type": "code",
   "execution_count": 195,
   "id": "9b362b10",
   "metadata": {},
   "outputs": [],
   "source": [
    "articles_df_en = articles_df.loc[articles_df['lang']=='en']\n",
    "content_ids_en = set(articles_df_en['contentId'].values)\n",
    "interactions_df_en = interactions_df.loc[interactions_df['contentId'].isin(content_ids_en)].reset_index()"
   ]
  },
  {
   "cell_type": "markdown",
   "id": "4e170c16",
   "metadata": {},
   "source": [
    "### Utility Datasets"
   ]
  },
  {
   "cell_type": "code",
   "execution_count": 244,
   "id": "4e0904dc",
   "metadata": {},
   "outputs": [
    {
     "data": {
      "application/vnd.jupyter.widget-view+json": {
       "model_id": "d1f16b37d0c64958891aacdaf0cc7cf5",
       "version_major": 2,
       "version_minor": 0
      },
      "text/plain": [
       "0it [00:00, ?it/s]"
      ]
     },
     "metadata": {},
     "output_type": "display_data"
    },
    {
     "data": {
      "application/vnd.jupyter.widget-view+json": {
       "model_id": "368ce684d0c0412aae6e3c3fc1746d28",
       "version_major": 2,
       "version_minor": 0
      },
      "text/plain": [
       "0it [00:00, ?it/s]"
      ]
     },
     "metadata": {},
     "output_type": "display_data"
    }
   ],
   "source": [
    "from collections import defaultdict\n",
    "usersPerItem = defaultdict(set) \n",
    "itemsPerUser = defaultdict(set)\n",
    "userItemDict = {}\n",
    "userItemInteractionTypeDict = {}\n",
    "itemUserInteractionTypeDict = {}\n",
    "friendsPerUser = {}\n",
    "\n",
    "\n",
    "for i, row in tqdm(interactions_df_en.iterrows()):\n",
    "    user = row['personId']\n",
    "    item = row['contentId']\n",
    "    usersPerItem[item].add(user)\n",
    "    itemsPerUser[user].add(item)\n",
    "    userItemDict[(user, item)] = row\n",
    "    userItemInteractionTypeDict[(user, item)] = row['eventType']\n",
    "    itemUserInteractionTypeDict[(item, user)] = row['eventType']\n",
    "\n",
    "for i, row in tqdm(friends_df.iterrows()):\n",
    "    friendsPerUser[row['personId']] = set(eval(row['friends']))"
   ]
  },
  {
   "cell_type": "code",
   "execution_count": 245,
   "id": "8ae3ed46",
   "metadata": {},
   "outputs": [
    {
     "data": {
      "application/vnd.jupyter.widget-view+json": {
       "model_id": "f31fa8f840cb4130a2119953235cca58",
       "version_major": 2,
       "version_minor": 0
      },
      "text/plain": [
       "  0%|          | 0/1644 [00:00<?, ?it/s]"
      ]
     },
     "metadata": {},
     "output_type": "display_data"
    }
   ],
   "source": [
    "friendItemsPerUser = defaultdict(set)\n",
    "for u, friends in tqdm(friendsPerUser.items()):\n",
    "    for friend in friends:\n",
    "        friendItemsPerUser[u] = friendItemsPerUser[u].union(itemsPerUser[friend])"
   ]
  },
  {
   "cell_type": "markdown",
   "id": "3b4c8c51",
   "metadata": {},
   "source": [
    "### Recommendation Systems"
   ]
  },
  {
   "cell_type": "markdown",
   "id": "d0866265",
   "metadata": {},
   "source": [
    "##### Generate random recommendations"
   ]
  },
  {
   "cell_type": "code",
   "execution_count": 246,
   "id": "f7ab2a5d",
   "metadata": {},
   "outputs": [],
   "source": [
    "def getRandomArticles(u, n):\n",
    "    itemScoreDict = defaultdict(list)\n",
    "    random_n_articles = random.sample(usersPerItem.keys(), n)\n",
    "    for item in random_n_articles:\n",
    "        similarities = itemItemSimilarity(item, usersPerItem.keys())\n",
    "        for sim, item in similarities:\n",
    "            itemScoreDict[item].append(sim)\n",
    "    itemScoreTuple = []\n",
    "    for k, v in itemScoreDict.items():\n",
    "        itemScoreTuple.append((sum(v)/len(v), k))\n",
    "    itemScoreTuple.sort()\n",
    "    return itemScoreTuple[:n]"
   ]
  },
  {
   "cell_type": "markdown",
   "id": "b3d7bc6a",
   "metadata": {},
   "source": [
    "##### generate opposite recommendations considering item-item similarity scores and friends list"
   ]
  },
  {
   "cell_type": "code",
   "execution_count": 248,
   "id": "e3514706",
   "metadata": {},
   "outputs": [],
   "source": [
    "# utility function to calculate jaccard similarity\n",
    "def Jaccard(s1, s2):\n",
    "    numer = len(s1.intersection(s2))\n",
    "    denom = len(s1.union(s2))\n",
    "    if denom == 0:\n",
    "        return 0\n",
    "    return numer / denom"
   ]
  },
  {
   "cell_type": "code",
   "execution_count": 249,
   "id": "b3ff6dbe",
   "metadata": {},
   "outputs": [],
   "source": [
    "def itemItemSimilarity(i, items):\n",
    "    similarities = []\n",
    "    for item in items:\n",
    "        if item!=i:\n",
    "            sim = Jaccard(usersPerItem[i], usersPerItem[item])\n",
    "            if sim!=0:\n",
    "                similarities.append((sim,item))\n",
    "    return similarities"
   ]
  },
  {
   "cell_type": "code",
   "execution_count": 250,
   "id": "cb6915de",
   "metadata": {},
   "outputs": [],
   "source": [
    "def getRecommendedArticles(u):\n",
    "    # get least similar friends:\n",
    "    itemScoreDict = defaultdict(list)\n",
    "    for item in itemsPerUser[u]:\n",
    "        similarities = itemItemSimilarity(item, usersPerItem.keys())\n",
    "        for sim, item in similarities:\n",
    "            itemScoreDict[item].append(sim)\n",
    "    itemScoreTuples = []\n",
    "    for k, v in itemScoreDict.items():\n",
    "        itemScoreTuples.append((sum(v)/len(v), k))\n",
    "    itemScoreTuples.sort()\n",
    "    return itemScoreTuples"
   ]
  },
  {
   "cell_type": "code",
   "execution_count": 332,
   "id": "7dea8aca",
   "metadata": {},
   "outputs": [],
   "source": [
    "def filterByFriends(u, itemScoreTuples, n):\n",
    "    filteredList = []\n",
    "    for score, item in itemScoreTuples:\n",
    "        if item in friendItemsPerUser[u]:\n",
    "            filteredList.append((score, item))\n",
    "    return filteredList[:n]"
   ]
  },
  {
   "cell_type": "code",
   "execution_count": 255,
   "id": "aa3d0b68",
   "metadata": {},
   "outputs": [],
   "source": [
    "# test\n",
    "# getRandomArticles(115141794465366279, 10)"
   ]
  },
  {
   "cell_type": "markdown",
   "id": "37fd2cd0",
   "metadata": {},
   "source": [
    "## Chrome extension simulation"
   ]
  },
  {
   "cell_type": "code",
   "execution_count": 358,
   "id": "30d263f6",
   "metadata": {},
   "outputs": [],
   "source": [
    "# Simulation of content type (aka chrome extension)\n",
    "import ipywidgets as widgets\n",
    "class widget:\n",
    "    def __init__(self):\n",
    "        # main variable\n",
    "        self.content_selection = 0 # default\n",
    "        \n",
    "        # enable widget only once\n",
    "        self.flag = 1\n",
    "    \n",
    "        # Define the options for the radio buttons\n",
    "        self.options = {0:'Random', 1:'Burst my Bubble'}\n",
    "        \n",
    "\n",
    "        # Create the radio buttons widget\n",
    "        self.radio_buttons = widgets.RadioButtons(\n",
    "            options=options,\n",
    "            description='What type of content do you want to see?',\n",
    "            disabled=False\n",
    "        ) \n",
    "        \n",
    "        # Define a function to be called when a radio button is selected\n",
    "        def _on_radio_button_change(change):\n",
    "            if change.new=='Random':\n",
    "                self.content_selection=0\n",
    "            else:\n",
    "                self.content_selection=1\n",
    "        \n",
    "        # Attach the function to the radio buttons widget\n",
    "        self.radio_buttons.observe(_on_radio_button_change, names='value')\n",
    "    \n",
    "    # Display the radio buttons widget\n",
    "    def enable_widget(self):\n",
    "        if self.flag:\n",
    "            display(self.radio_buttons)\n",
    "        self.flag = 0\n",
    "        \n",
    "    # recommend article\n",
    "    def getTopNArticles(self, user, n):\n",
    "        articles = None\n",
    "        if self.content_selection==0:\n",
    "            print('in random')\n",
    "            articles = getRandomArticles(user, n)\n",
    "        else:\n",
    "            print('in bursting the bubble')\n",
    "            tuples = getRecommendedArticles(user)\n",
    "            articles =  filterByFriends(user, tuples, n)\n",
    "        articles = [('contentId\\t', 'simlarity score')]+[(v, k) for k, v in articles]\n",
    "        pprint.pprint(articles)\n",
    "    \n",
    "    # get state\n",
    "    def get_state(self):\n",
    "        return 'Random' if self.content_selection==0 else 'Bursting my Bubble'"
   ]
  },
  {
   "cell_type": "code",
   "execution_count": 359,
   "id": "9eb4fea7",
   "metadata": {},
   "outputs": [],
   "source": [
    "widget = widget()"
   ]
  },
  {
   "cell_type": "code",
   "execution_count": 360,
   "id": "bc7adc50",
   "metadata": {},
   "outputs": [
    {
     "data": {
      "application/vnd.jupyter.widget-view+json": {
       "model_id": "0fda5d970d61431ba1540ee08e2020e4",
       "version_major": 2,
       "version_minor": 0
      },
      "text/plain": [
       "RadioButtons(description='What type of content do you want to see?', options=('Random', 'Burst my Bubble'), va…"
      ]
     },
     "metadata": {},
     "output_type": "display_data"
    }
   ],
   "source": [
    "widget.enable_widget()"
   ]
  },
  {
   "cell_type": "code",
   "execution_count": 361,
   "id": "0302a7f2",
   "metadata": {},
   "outputs": [
    {
     "data": {
      "text/plain": [
       "'Random'"
      ]
     },
     "execution_count": 361,
     "metadata": {},
     "output_type": "execute_result"
    }
   ],
   "source": [
    "widget.get_state()"
   ]
  },
  {
   "cell_type": "code",
   "execution_count": 362,
   "id": "95fbaed6",
   "metadata": {},
   "outputs": [],
   "source": [
    "user = 115141794465366279\n",
    "count = 10"
   ]
  },
  {
   "cell_type": "code",
   "execution_count": 363,
   "id": "d4ba8838",
   "metadata": {},
   "outputs": [
    {
     "name": "stdout",
     "output_type": "stream",
     "text": [
      "in random\n",
      "[('contentId\\t', 'simlarity score'),\n",
      " (1469580151036142903, 0.009261867150027508),\n",
      " (-4029704725707465084, 0.010933710360709637),\n",
      " (-6542996094878850014, 0.014540781089910904),\n",
      " (-4503975842879662368, 0.014632412294258212),\n",
      " (-5488842573681626972, 0.01650261260210384),\n",
      " (-4333957157636611418, 0.017224776992975928),\n",
      " (-6623581327558800021, 0.01729325447635307),\n",
      " (-8627051188605351707, 0.01847125667833636),\n",
      " (-14569272361926584, 0.02016579796475552),\n",
      " (-5848514031542611523, 0.020833333333333332)]\n"
     ]
    }
   ],
   "source": [
    "widget.getTopNArticles(user, count)"
   ]
  },
  {
   "cell_type": "code",
   "execution_count": 364,
   "id": "e7d2e8c9",
   "metadata": {},
   "outputs": [
    {
     "data": {
      "text/plain": [
       "'Bursting my Bubble'"
      ]
     },
     "execution_count": 364,
     "metadata": {},
     "output_type": "execute_result"
    }
   ],
   "source": [
    "widget.get_state()"
   ]
  },
  {
   "cell_type": "code",
   "execution_count": 365,
   "id": "fd4a8caa",
   "metadata": {},
   "outputs": [
    {
     "name": "stdout",
     "output_type": "stream",
     "text": [
      "in bursting the bubble\n",
      "[('contentId\\t', 'simlarity score'),\n",
      " (4774970687540378081, 0.009708737864077669),\n",
      " (-7809508238092432842, 0.009900990099009901),\n",
      " (7255021292858609470, 0.01),\n",
      " (-4293262855938209141, 0.01020408163265306),\n",
      " (-8669770849634489893, 0.010309278350515464),\n",
      " (-5361115220834660562, 0.010526315789473684),\n",
      " (4785499183287168509, 0.010526315789473684),\n",
      " (4915137112517573184, 0.010526315789473684),\n",
      " (5468598741732935699, 0.010638297872340425),\n",
      " (8736111317960965711, 0.010638297872340425)]\n"
     ]
    }
   ],
   "source": [
    "widget.getTopNArticles(user, count)"
   ]
  }
 ],
 "metadata": {
  "kernelspec": {
   "display_name": "Python [conda env:projectEnv]",
   "language": "python",
   "name": "conda-env-projectEnv-py"
  },
  "language_info": {
   "codemirror_mode": {
    "name": "ipython",
    "version": 3
   },
   "file_extension": ".py",
   "mimetype": "text/x-python",
   "name": "python",
   "nbconvert_exporter": "python",
   "pygments_lexer": "ipython3",
   "version": "3.9.12"
  }
 },
 "nbformat": 4,
 "nbformat_minor": 5
}
